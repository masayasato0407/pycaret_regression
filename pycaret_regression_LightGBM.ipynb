{
  "nbformat": 4,
  "nbformat_minor": 0,
  "metadata": {
    "colab": {
      "provenance": []
    },
    "kernelspec": {
      "name": "python3",
      "display_name": "Python 3"
    },
    "language_info": {
      "name": "python"
    }
  },
  "cells": [
    {
      "cell_type": "markdown",
      "source": [
        "#pycaretはtrain sampleとtest sampleを予め分けて準備し、5つのステップでtest sampleでの精度を解析する"
      ],
      "metadata": {
        "id": "01Rj0xv0ZhhW"
      }
    },
    {
      "cell_type": "markdown",
      "source": [
        "①training dataとtest dataを読み込む\n",
        "\n",
        "②狭義のtraining set (training sample全体の7割)を10分割交差検証で比較しハイパーパラメーターのチューニングする\n",
        "\n",
        "③validation set (training sample全体の3割)も使用して、training sample全体でのモデルを作成する\n",
        "\n",
        "④training set全体での精度の検証 (internal validation)\n",
        "\n",
        "⑤予め別に自身で準備したtest sampleで精度を検証する (external validation) →この精度を上げるのが目的"
      ],
      "metadata": {
        "id": "cxVgXihdZmYx"
      }
    },
    {
      "cell_type": "code",
      "execution_count": null,
      "metadata": {
        "id": "ix5IHYfWNDcX"
      },
      "outputs": [],
      "source": [
        "#パッケージのインストール\n",
        "!pip install pycaret"
      ]
    },
    {
      "cell_type": "code",
      "source": [
        "#ライブラリのインポート\n",
        "import numpy as np\n",
        "import pandas as pd"
      ],
      "metadata": {
        "id": "-EdpuOafNg-j"
      },
      "execution_count": null,
      "outputs": []
    },
    {
      "cell_type": "code",
      "source": [
        "#回帰パッケージのインポート\n",
        "from pycaret.regression import *"
      ],
      "metadata": {
        "id": "nLJOU3BONhAq"
      },
      "execution_count": null,
      "outputs": []
    },
    {
      "cell_type": "markdown",
      "source": [
        "#ここからは実際のデータの読み込み"
      ],
      "metadata": {
        "id": "Cw23sh0uNsrJ"
      }
    },
    {
      "cell_type": "code",
      "source": [
        "# ローカルファイルを直接アップロードする (train data)\n",
        "from google.colab import files\n",
        "uploaded = files.upload()"
      ],
      "metadata": {
        "id": "9bOMjCmKNhCt"
      },
      "execution_count": null,
      "outputs": []
    },
    {
      "cell_type": "code",
      "source": [
        "#train dataの読み込み\n",
        "train_data = pd.read_csv('train.csv')\n",
        "train_data.head()"
      ],
      "metadata": {
        "id": "3CffMpQNNhEq"
      },
      "execution_count": null,
      "outputs": []
    },
    {
      "cell_type": "code",
      "source": [
        "# ローカルファイルを直接アップロードする (test data)\n",
        "from google.colab import files\n",
        "uploaded = files.upload()"
      ],
      "metadata": {
        "id": "VBV7YaTZNhG6"
      },
      "execution_count": null,
      "outputs": []
    },
    {
      "cell_type": "code",
      "source": [
        "#test dataの読み込み\n",
        "test_data = pd.read_csv('test.csv')\n",
        "test_data.head()"
      ],
      "metadata": {
        "id": "tLcpee-BNhI7"
      },
      "execution_count": null,
      "outputs": []
    },
    {
      "cell_type": "markdown",
      "source": [
        "#ここからステップ①、pycaretにデータの型を判別させ、training data全体をtrainingのための狭義のtraining sampleとパラメーターを決めるためのvalidation sampleに分割する。"
      ],
      "metadata": {
        "id": "3U70CDwQN0CB"
      }
    },
    {
      "cell_type": "code",
      "source": [
        "#train_sizeを指定しない場合は7:3に分割される\n",
        "#pycaretにデータの型を判別させる\n",
        "exp1 = setup(train_data, target = 'cancertime', train_size = 0.8,ignore_features = None)"
      ],
      "metadata": {
        "id": "uYDJAklmN2vK"
      },
      "execution_count": null,
      "outputs": []
    },
    {
      "cell_type": "markdown",
      "source": [
        "#ここからステップ② 狭義のtraining set (上でtraining sample全体の8割に指定)を10分割交差検証で比較しハイパーパラメーターのチューニングする"
      ],
      "metadata": {
        "id": "BxsGySQqOiMA"
      }
    },
    {
      "cell_type": "code",
      "source": [
        "#transformed train sampleでのmodelの比較 (デフォルトは10分割交差検証)\n",
        "compare_models()"
      ],
      "metadata": {
        "id": "a2I_yD0gOczQ"
      },
      "execution_count": null,
      "outputs": []
    },
    {
      "cell_type": "code",
      "source": [
        "#lightGBM (Gradient Boosting Machine)を作成\n",
        "lgbm = create_model('lightgbm')"
      ],
      "metadata": {
        "id": "LEY6aAK9Onvg"
      },
      "execution_count": null,
      "outputs": []
    },
    {
      "cell_type": "markdown",
      "source": [
        "#ここからハイパーパラメーターをチューニング、pycaretはランダムサーチで最適パラメーターを探索"
      ],
      "metadata": {
        "id": "FgAWK1nOX76Y"
      }
    },
    {
      "cell_type": "code",
      "source": [
        "#試行回数の指定 n_iter = 10 (時間がかかるので10にしています、50や100に設定してください)\n",
        "#ここでは'RMSE'を最適なものにしている (他r2などを指定可能)\n",
        "tuned_lgbm = tune_model(lgbm,  n_iter = 10, fold=10,optimize = 'RMSE')"
      ],
      "metadata": {
        "id": "uMRFyCviOzvk"
      },
      "execution_count": null,
      "outputs": []
    },
    {
      "cell_type": "markdown",
      "source": [
        "#ここからステップ③ validation sampleも含めたtraining sample2100例全体でのモデル (final model)を固定する"
      ],
      "metadata": {
        "id": "uvok5uJ_YvA_"
      }
    },
    {
      "cell_type": "code",
      "source": [
        "#モデルの固定\n",
        "final_lgbm = finalize_model(tuned_lgbm)"
      ],
      "metadata": {
        "id": "FD9G6fWRYr-g"
      },
      "execution_count": null,
      "outputs": []
    },
    {
      "cell_type": "markdown",
      "source": [
        "#ここからステップ④　training set全体での精度検証 (internal validation)"
      ],
      "metadata": {
        "id": "mMr5r6xoZHWy"
      }
    },
    {
      "cell_type": "markdown",
      "source": [
        "このコードは厳密にはtraining sample全体で評価を行っているのではなく、training sampleの一部である (今回ならtraining sampleの2割)　validation sampleのみでの評価を行っている"
      ],
      "metadata": {
        "id": "E7m7NmtIZL_3"
      }
    },
    {
      "cell_type": "markdown",
      "source": [
        "→training sample全体で行うためには、本プロセスの最後で行っているtest dataでの評価の際に用いるtest dataをtraining dataに置き換えて、test dataに行うのと同様にScoreのCSVファイルを出力する"
      ],
      "metadata": {
        "id": "gHo_butPZOq_"
      }
    },
    {
      "cell_type": "code",
      "source": [
        "#lightgbmモデルのinternal validation\n",
        "predict_model(final_lgbm);"
      ],
      "metadata": {
        "id": "3dlCiQYMZQLw"
      },
      "execution_count": null,
      "outputs": []
    },
    {
      "cell_type": "markdown",
      "source": [
        "#ここからステップ⑤　予め別に自身で準備したtest sampleで精度を検証する (external validation)→この精度を上げるのが目的"
      ],
      "metadata": {
        "id": "wbAVHExDZsLm"
      }
    },
    {
      "cell_type": "code",
      "source": [
        "#モデルの評価\n",
        "prediction_lgbm = predict_model(final_lgbm, data = test_data)\n",
        "prediction_lgbm"
      ],
      "metadata": {
        "id": "c7PJxXn-ZQOB"
      },
      "execution_count": null,
      "outputs": []
    },
    {
      "cell_type": "markdown",
      "source": [
        "#統計ソフトでの解析用に機械学習が出したスコアと正解ラベルをcsvファイルで出力する。"
      ],
      "metadata": {
        "id": "mcAshZoeaQym"
      }
    },
    {
      "cell_type": "markdown",
      "source": [
        "例えば、RMSEは予測値と真値の差を二乗してその平均を平方したものなので、エクセルの予測値と実際の値を用いて計算することもできる"
      ],
      "metadata": {
        "id": "VDPi2BTZajzF"
      }
    },
    {
      "cell_type": "code",
      "source": [
        "#モデルの予測出力 (左のフォルダにcsvが出ているので、ファイル右の点3つからダウンロード)\n",
        "prediction_lgbm.to_csv('prediction_lgbd.csv', columns=['cancertime','prediction_label'])"
      ],
      "metadata": {
        "id": "3XIS2jIxZQP5"
      },
      "execution_count": null,
      "outputs": []
    },
    {
      "cell_type": "markdown",
      "source": [
        "#ハイパーパラメーターや変数の重要度等を一斉に出力する(一部出力不可のモデルもある)"
      ],
      "metadata": {
        "id": "Cse5R6xlbPU7"
      }
    },
    {
      "cell_type": "code",
      "source": [
        "evaluate_model (final_lgbm)"
      ],
      "metadata": {
        "id": "zZee0hqtYsAf"
      },
      "execution_count": null,
      "outputs": []
    }
  ]
}